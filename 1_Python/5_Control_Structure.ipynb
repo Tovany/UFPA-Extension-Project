{
 "cells": [
  {
   "cell_type": "markdown",
   "metadata": {},
   "source": [
    "<h1> <b> Estruturas de controle"
   ]
  },
  {
   "cell_type": "markdown",
   "metadata": {},
   "source": [
    "<hr>"
   ]
  },
  {
   "cell_type": "markdown",
   "metadata": {},
   "source": [
    "<p> As estruturas de controle em Python são essenciais para a construção de programas que executam fluxos de trabalho complexos. Elas permitem a execução condicional de blocos de código, repetição de tarefas e tomada de decisões.</p>"
   ]
  },
  {
   "cell_type": "markdown",
   "metadata": {},
   "source": [
    "<hr>"
   ]
  },
  {
   "cell_type": "markdown",
   "metadata": {},
   "source": [
    "<b><h2>Tipos de estruturas de controle</h2>"
   ]
  },
  {
   "cell_type": "markdown",
   "metadata": {},
   "source": [
    "<h3> <b> <i>1. Condicionais </h3>"
   ]
  },
  {
   "cell_type": "markdown",
   "metadata": {},
   "source": [
    "<p>As estruturas condicionais permitem que o programa execute certos blocos de código <u>apenas se determinadas condições forem atendidas.</u></p>\n",
    "<br>\n",
    "<p> As estruturas condicionais são: </p>\n",
    "\n",
    "<ul>\n",
    "    <li> <b> if </b></li>\n",
    "        <dd> Executa um bloco de código se uma condição for verdadeira.</dd>\n",
    "\n",
    "</ul>"
   ]
  },
  {
   "cell_type": "code",
   "execution_count": 3,
   "metadata": {},
   "outputs": [
    {
     "name": "stdout",
     "output_type": "stream",
     "text": [
      "O valor é menor que 10\n"
     ]
    }
   ],
   "source": [
    "x = 5;\n",
    "\n",
    "if x < 10:\n",
    "    print(\"O valor é menor que 10\")"
   ]
  },
  {
   "cell_type": "markdown",
   "metadata": {},
   "source": [
    "<hr>"
   ]
  },
  {
   "cell_type": "markdown",
   "metadata": {},
   "source": [
    "<ul>\n",
    "    <li> <b> elif </b> e <b> else </b></li>\n",
    "        <dd> Para <i>elif</i> Adiciona condições adicionais que são verificadas se a condição anterior foi falsa.</dd>\n",
    "        <dd> Para <i>else</i>  Executa um bloco de código se nenhuma das condições anteriores for verdadeira.</dd>\n",
    "        <dd> Muito usado com junto com o <i>if</i></dd>\n",
    "</ul>"
   ]
  },
  {
   "cell_type": "code",
   "execution_count": 13,
   "metadata": {},
   "outputs": [
    {
     "name": "stdout",
     "output_type": "stream",
     "text": [
      "O valor é 0\n"
     ]
    }
   ],
   "source": [
    "x = 0\n",
    "\n",
    "if x == 0:\n",
    "    print(\"O valor é 0\")\n",
    "    \n",
    "elif x > 0:\n",
    "    print(\"O valor é positivo\")\n",
    "\n",
    "else:\n",
    "    print(\"O valor é negativo\")"
   ]
  },
  {
   "cell_type": "markdown",
   "metadata": {},
   "source": [
    "<hr>\n",
    "<hr>\n",
    "\n",
    "<h3> <b> <i>2. Repetição </h3>"
   ]
  },
  {
   "cell_type": "markdown",
   "metadata": {},
   "source": [
    "<p>As estruturas de repetição permitem que um bloco de código seja executado várias vezes.</u></p>\n",
    "<br>\n",
    "<p> As estruturas de repetição são: </p>\n",
    "\n",
    "\n",
    "<hr>\n",
    "<ul>\n",
    "    <li> <b> for </b></li>\n",
    "        <dd> Itera sobre uma sequência (como uma lista, tupla ou string) e executa um bloco de código para cada item.</dd>\n",
    "\n",
    "</ul></u></p>\n",
    "<br>"
   ]
  },
  {
   "cell_type": "code",
   "execution_count": 1,
   "metadata": {},
   "outputs": [
    {
     "name": "stdout",
     "output_type": "stream",
     "text": [
      "maçã\n",
      "uva\n",
      "cereja\n"
     ]
    }
   ],
   "source": [
    "frutas = [\"maçã\", \"uva\", \"cereja\"]\n",
    "for fruta in frutas:\n",
    "    print(fruta)"
   ]
  },
  {
   "cell_type": "markdown",
   "metadata": {},
   "source": [
    " <p> O uso do <b>range</b> é comum junto ao for.<br>\n",
    " <p> É usado para criar sequências numéricas."
   ]
  },
  {
   "cell_type": "code",
   "execution_count": 2,
   "metadata": {},
   "outputs": [
    {
     "name": "stdout",
     "output_type": "stream",
     "text": [
      "0\n",
      "1\n",
      "2\n",
      "3\n",
      "4\n"
     ]
    }
   ],
   "source": [
    "for numero in range(5):\n",
    "    print(numero)"
   ]
  },
  {
   "cell_type": "markdown",
   "metadata": {},
   "source": [
    "<hr>\n",
    "<ul>\n",
    "    <li> <b> while </b></li>\n",
    "        <dd> Executa um bloco de código enquanto uma condição for verdadeira </dd>\n",
    "\n",
    "</ul></u></p>\n",
    "<br>"
   ]
  },
  {
   "cell_type": "code",
   "execution_count": 3,
   "metadata": {},
   "outputs": [
    {
     "name": "stdout",
     "output_type": "stream",
     "text": [
      "0\n",
      "1\n",
      "2\n",
      "3\n",
      "4\n"
     ]
    }
   ],
   "source": [
    "contador = 0\n",
    "while contador < 5:\n",
    "    print(contador)\n",
    "    contador += 1"
   ]
  },
  {
   "cell_type": "markdown",
   "metadata": {},
   "source": [
    "<hr>\n",
    "<hr>\n",
    "\n",
    "<h3> <b> <i>3. Controle de fluxo </h3>"
   ]
  },
  {
   "cell_type": "markdown",
   "metadata": {},
   "source": [
    "<p> Os comandos de controle de fluxo modificam o <u>comportamento padrão dos loops.</u></p>\n",
    "<br>\n",
    "<p> os comandos de CF são: </p>\n",
    "\n",
    "\n",
    "<hr>\n",
    "<ul>\n",
    "    <li> <b> break </b></li> \n",
    "        <dd> Interrompe o loop imediatamente.</dd>\n",
    "\n",
    "</ul></u></p>\n",
    "<br>"
   ]
  },
  {
   "cell_type": "code",
   "execution_count": 4,
   "metadata": {},
   "outputs": [
    {
     "name": "stdout",
     "output_type": "stream",
     "text": [
      "0\n",
      "1\n",
      "2\n"
     ]
    }
   ],
   "source": [
    "for i in range(5):\n",
    "    if i == 3:\n",
    "        break\n",
    "    print(i)"
   ]
  },
  {
   "cell_type": "markdown",
   "metadata": {},
   "source": [
    "<hr>\n",
    "<ul>\n",
    "    <li> <b> continue </b></li>\n",
    "        <dd> Pula a interação atual e continua com a próxima interação.</dd>\n",
    "\n",
    "</ul></u></p>\n",
    "<br>"
   ]
  },
  {
   "cell_type": "code",
   "execution_count": 14,
   "metadata": {},
   "outputs": [
    {
     "name": "stdout",
     "output_type": "stream",
     "text": [
      "Meu Hamburguer é sem: ['Picles'].\n",
      "Hamburguer do meu jeito é com: ['Alface', 'Tomate', 'Carne', 'Queijo', 'Bacon'].\n"
     ]
    }
   ],
   "source": [
    "ingredientes = [\"Alface\", \"Tomate\", \"Picles\", \"Carne\", \"Queijo\",\"Bacon\"]\n",
    "\n",
    "hamburguer = []\n",
    "descarte = []\n",
    "\n",
    "for ing in ingredientes:\n",
    "    if ing == \"Picles\":\n",
    "        descarte.append(ing) # Método de inserção em uma lista. Ele insere algo ao final da lista.\n",
    "        continue\n",
    "        \n",
    "    hamburguer.append(ing)\n",
    "\n",
    "print(f\"Meu Hamburguer é sem: {descarte}.\")\n",
    "print(f\"Hamburguer do meu jeito é com: {hamburguer}.\")"
   ]
  },
  {
   "cell_type": "markdown",
   "metadata": {},
   "source": [
    "<hr>\n",
    "<ul>\n",
    "    <li> <b> pass </b></li>\n",
    "        <dd> Um comando nulo que serve como espaço reservado. É usado quando um comando é necessário, mas não há nenhuma ação a ser executada.</dd>\n",
    "\n",
    "</ul></u></p>\n",
    "<br>"
   ]
  },
  {
   "cell_type": "code",
   "execution_count": 15,
   "metadata": {},
   "outputs": [
    {
     "name": "stdout",
     "output_type": "stream",
     "text": [
      "0\n",
      "1\n",
      "2\n",
      "3\n",
      "4\n"
     ]
    }
   ],
   "source": [
    "for i in range(5):\n",
    "    if i == 3:\n",
    "        pass\n",
    "    print(i)"
   ]
  }
 ],
 "metadata": {
  "kernelspec": {
   "display_name": "Projeto-ext",
   "language": "python",
   "name": "python3"
  },
  "language_info": {
   "codemirror_mode": {
    "name": "ipython",
    "version": 3
   },
   "file_extension": ".py",
   "mimetype": "text/x-python",
   "name": "python",
   "nbconvert_exporter": "python",
   "pygments_lexer": "ipython3",
   "version": "3.12.4"
  }
 },
 "nbformat": 4,
 "nbformat_minor": 2
}
