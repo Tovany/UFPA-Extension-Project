{
 "cells": [
  {
   "cell_type": "markdown",
   "metadata": {},
   "source": [
    "<hr>"
   ]
  },
  {
   "cell_type": "code",
   "execution_count": null,
   "metadata": {},
   "outputs": [],
   "source": [
    "print(\"Hello world\")\n",
    "print(\"Olá mundo\")\n",
    "print(\":)\")"
   ]
  },
  {
   "cell_type": "markdown",
   "metadata": {},
   "source": [
    "\n",
    "<h1> Links para as aulas do canvas </h1>\n",
    "\n",
    "<a href=\"https://www.canva.com/design/DAGIb34OEoU/3vvF5BU1wYmbIIg7VS713g/edit?utm_content=DAGIb34OEoU&utm_campaign=designshare&utm_medium=link2&utm_source=sharebutton\"> Link para a primeira aula do canvas </a>\n",
    "\n",
    "\n",
    "<a href= \"https://www.canva.com/design/DAGLVuytjo4/1w6EJW7ZxUDzn71SjTFduQ/edit?utm_content=DAGLVuytjo4&utm_campaign=designshare&utm_medium=link2&utm_source=sharebutton\" > Link para a segunda aula do canvas </a>"
   ]
  },
  {
   "cell_type": "code",
   "execution_count": null,
   "metadata": {},
   "outputs": [],
   "source": []
  }
 ],
 "metadata": {
  "kernelspec": {
   "display_name": "Python 3 (ipykernel)",
   "language": "python",
   "name": "python3"
  },
  "language_info": {
   "codemirror_mode": {
    "name": "ipython",
    "version": 3
   },
   "file_extension": ".py",
   "mimetype": "text/x-python",
   "name": "python",
   "nbconvert_exporter": "python",
   "pygments_lexer": "ipython3",
   "version": "3.12.5"
  }
 },
 "nbformat": 4,
 "nbformat_minor": 4
}
