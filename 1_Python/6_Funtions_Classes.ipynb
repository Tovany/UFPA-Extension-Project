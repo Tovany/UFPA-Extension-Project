{
 "cells": [
  {
   "cell_type": "markdown",
   "metadata": {},
   "source": [
    "<h1> <b>Funções e Classes no python </b> </h1>\n",
    "<hr>\n",
    "<hr>"
   ]
  },
  {
   "cell_type": "markdown",
   "metadata": {},
   "source": [
    "<h2><b>Funções</b></h2>\n",
    "<hr>"
   ]
  },
  {
   "cell_type": "markdown",
   "metadata": {},
   "source": [
    "<p> <i>Funções</i> são blocos de código reutilizáveis que realizam uma tarefa específica. Elas ajudam a dividir um programa em partes menores e mais gerenciáveis, facilitando a manutenção e a legibilidade do código.<br>\n",
    "Para definir uma função em python, usa-se a palavra-chave <code>def</code>, seguida pelo nome da função e um par de parênteses que podem conter <u>parâmetros.</p>\n",
    "\n",
    "<h3>Exemplo:</h3>"
   ]
  },
  {
   "cell_type": "code",
   "execution_count": 10,
   "metadata": {},
   "outputs": [],
   "source": [
    "def Soma(parametro_1, parametro_2): # Pode não precisar dos parâmetros\n",
    "    somando = parametro_1 + parametro_2\n",
    "    return somando"
   ]
  },
  {
   "cell_type": "markdown",
   "metadata": {},
   "source": [
    "<p>Onde os elementos são:</p>\n",
    "<ul>\n",
    "    <li><b>def:</b></li>\n",
    "        <dd> Palavra-chave usada para definir uma função;</dd><br>\n",
    "    <li><b>Soma:</b></li>\n",
    "        <dd> Nome escolhido para a função;</dd><br>\n",
    "    <li><b>parametro_1,parametro_2 :</b></li>\n",
    "        <dd> Parametros <i>(opcionais)</i> que a função pode receber;</dd><br>\n",
    "    <li><b>return:</b></li>\n",
    "        <dd> Palavra chave usada para retirna o valor da função.</dd>\n",
    "</ul>"
   ]
  },
  {
   "cell_type": "markdown",
   "metadata": {},
   "source": [
    "<hr>\n",
    "<h3><b>Chamando as funções</b></h3>\n",
    "<p>Para chamar uma função, você usa o nome da função seguido de um parênteses, passando os argumentos necessários (se tiver)</p>"
   ]
  },
  {
   "cell_type": "code",
   "execution_count": 9,
   "metadata": {},
   "outputs": [
    {
     "name": "stdout",
     "output_type": "stream",
     "text": [
      "o resultado da soma é: 2\n"
     ]
    }
   ],
   "source": [
    "resultado = Soma(1,1)\n",
    "print(f\"o resultado da soma é: {resultado}\")"
   ]
  },
  {
   "cell_type": "markdown",
   "metadata": {},
   "source": [
    "<p>Mas, e as funções sem parâmetros? como faz?</p>\n",
    "<img src=\"https://i.pinimg.com/736x/06/8a/3b/068a3bf3df181521a50a4a23f90b97f2.jpg\" width=\"200px\">"
   ]
  },
  {
   "cell_type": "markdown",
   "metadata": {},
   "source": [
    "<hr>\n",
    "<h3> <strong>Funções sem parâmetros</strong></h3>\n",
    "<p>Por que usar funções sem parametros?</p>\n",
    "\n",
    "<ul>\n",
    "    <li> <b>Tarefas independetes:</b></li>\n",
    "        <dd>Funções sem parâmetros são ideais para taredas que não dependem de valores externos para serem executadas;</dd><br>\n",
    "    <li> <b>Código reutilizável:</b></li>\n",
    "        <dd> Elas permitem reutilizar o mesmo bloco de código em diferentes partes do programa, sempre que a tarefa específica precisa ser realizada.</dd><br>\n",
    "    <li> <b>Clareza e Organização:</b></li> \n",
    "        <dd>Dividir o código em funções sem parâmetros pode tornar o programa mais organizado e fácil de ler. Cada função pode ser responsável por uma única tarefa, facilitando a depuração e manutenção.</dd><br>\n",
    "</ul>"
   ]
  },
  {
   "cell_type": "code",
   "execution_count": 22,
   "metadata": {},
   "outputs": [
    {
     "name": "stdout",
     "output_type": "stream",
     "text": [
      "A soma dos números de 1 a 100 é: 5050\n"
     ]
    }
   ],
   "source": [
    "def calcular_soma():\n",
    "    soma = 0\n",
    "    for i in range(1, 101):\n",
    "        soma += i\n",
    "    print(f\"A soma dos números de 1 a 100 é: {soma}\")\n",
    "\n",
    "# Chamando a função\n",
    "calcular_soma()"
   ]
  },
  {
   "cell_type": "markdown",
   "metadata": {},
   "source": [
    "<hr>\n",
    "<hr>"
   ]
  },
  {
   "cell_type": "markdown",
   "metadata": {},
   "source": [
    "<h2><b>Classes</b></h2>\n",
    "<hr>"
   ]
  },
  {
   "cell_type": "markdown",
   "metadata": {},
   "source": [
    "<p>Classes são um dos principais conceitos da programação orientada a objetos (POO). Elas permitem a criação de estruturas de dados customizadas que podem incluir dados (atributos) e comportamento (métodos). Em Python, classes proporcionam uma maneira de combinar dados e funcionalidades em um único bloco de código.<br>\n",
    "Uma classe em Python é definida usando a palavra-chave <code>class</code> seguida do <u>nome da classe</u> e dois pontos. Dentro do corpo da classe, você pode definir <b>métodos</b> <i>(funções)</i> e <b>atributos</b> <i>(variáveis).</i>\n",
    "</p>"
   ]
  },
  {
   "cell_type": "code",
   "execution_count": 1,
   "metadata": {},
   "outputs": [],
   "source": [
    "class Pessoa:\n",
    "    def __init__(self, nome, idade):\n",
    "        self.nome = nome\n",
    "        self.idade = idade\n",
    "    \n",
    "    def apresentar(self):\n",
    "        print(f\"Olá, meu nome é {self.nome} e eu tenho {self.idade} anos.\")"
   ]
  },
  {
   "cell_type": "markdown",
   "metadata": {},
   "source": [
    "<p> Onde os elementos são:</p>\n",
    "<ul>\n",
    "    <li><b><code>Class</code> Pessoa:</b></li>\n",
    "        <dd>Define uma nova classe chamada <i>Pessoa</i>;</dd><br>\n",
    "    <li><b><code>def __init__(self, nome, idade):</code> </b></li>\n",
    "        <dd>Define o método inicializador, conhecido como construtor. Este método é chamado quando uma nova instância da classe é criada. O parâmetro self refere-se à instância atual da classe;\n",
    "</dd><br>\n",
    "    <li><b><code>self.nome = nome</code> </b> e <code>self.nome = idade</code></li>\n",
    "        <dd>Atribui os valores dos parâmetros nome e idade aos atributos da instância <i>self.nome e self.idade</i>;\n",
    "</dd><br>\n",
    "    <li><b><code>def apresentar(self)</b></code></li>\n",
    "        <dd>Define o método chamado <code>apresentar</code> que imprimi uma mensagem apresentando a pessoa.</dd><br>\n",
    "</ul>"
   ]
  },
  {
   "cell_type": "markdown",
   "metadata": {},
   "source": [
    "<hr>\n",
    "<h3><b>Chamando as classes<b></h3>"
   ]
  },
  {
   "cell_type": "markdown",
   "metadata": {},
   "source": [
    "<ol>\n",
    "    <li><i>Criando uma instância de classe:</i></li>\n",
    "        <dd>Para você chamar uma classe (o \"chamar\" é <i>instanciar uma classe</i>) você cria uma variável e chama a função como se fosse uma função.</dd>\n",
    "        <br> \n",
    "    <li><i>Aplicando os métodos da classe</i></li>\n",
    "            <dd>Já para aplicar os métodos da classe, você colocar o nome da instância e o método que tem dentro da classe.</dd>\n",
    "    </li>\n",
    "</ol>\n"
   ]
  },
  {
   "cell_type": "code",
   "execution_count": 5,
   "metadata": {},
   "outputs": [
    {
     "name": "stdout",
     "output_type": "stream",
     "text": [
      "Olá, meu nome é Marta e eu tenho 22 anos.\n"
     ]
    }
   ],
   "source": [
    "# Criar uma instância de classes (uma variável)\n",
    "\n",
    "Pessoa1 = Pessoa(\"Marta\", 22)\n",
    "\n",
    "# Aplicar os métodos de classe\n",
    "Pessoa1.apresentar()"
   ]
  },
  {
   "cell_type": "markdown",
   "metadata": {},
   "source": [
    "<hr>\n",
    "<h2><b>Herança de classe</b></h2>\n",
    "<p>A herança permite que uma classe <u>herde atributos e métodos de outra classe</u>. A classe que herda é chamada de subclasse, e a classe que é herdada é chamada de superclasse.\n",
    "<p>A classe principal é chamada de <i>Classe Pai</i></p><p>A classe herdeira é chamada de <i>Classe Filha</i></p>\n",
    "<br> O código fica:\n",
    "</p>\n",
    "\n",
    "\n",
    "<pre>\n",
    "\n",
    "Class Nome_da_nova_classe(Nome da classe que vai herdar):\n",
    "    def __init__(self, nome, idade,novo_atributo_da_instanciia ): # método construtor da classe e novos atriburos de instancia.\n",
    "        \n",
    "        super().__init__(nome , idade) # chama o método construtor da classe Pai e o que se quer herdar da classe Pai.\n",
    "\n",
    "\n",
    "        self.novo_atributo_da_instancia = NAI\n",
    "\n",
    "        \n",
    "    def novo_método(self):\n",
    ".\n",
    ".\n",
    ".\n",
    "</pre>"
   ]
  },
  {
   "cell_type": "code",
   "execution_count": 28,
   "metadata": {},
   "outputs": [],
   "source": [
    "# Exemplo de Herança\n",
    "import pandas as pd\n",
    "\n",
    "class DadosPessoais(Pessoa):\n",
    "    def __init__(self, nome, idade, cpf, rg):\n",
    "        super().__init__(nome, idade)\n",
    "\n",
    "        self.cpf = cpf\n",
    "        self.rg  = rg\n",
    "\n",
    "    def Dados_completos(self):\n",
    "        dados = {\"Nome\": [self.nome],\n",
    "                  \"Idade\": [self.idade],\n",
    "                  \"CPF\": [self.cpf],\n",
    "                  \"RG\": [self.rg ]}\n",
    "        return pd.DataFrame(dados)\n",
    "        "
   ]
  },
  {
   "cell_type": "code",
   "execution_count": 29,
   "metadata": {},
   "outputs": [
    {
     "name": "stdout",
     "output_type": "stream",
     "text": [
      "Olá, meu nome é Marina e eu tenho 32 anos.\n"
     ]
    },
    {
     "data": {
      "text/html": [
       "<div>\n",
       "<style scoped>\n",
       "    .dataframe tbody tr th:only-of-type {\n",
       "        vertical-align: middle;\n",
       "    }\n",
       "\n",
       "    .dataframe tbody tr th {\n",
       "        vertical-align: top;\n",
       "    }\n",
       "\n",
       "    .dataframe thead th {\n",
       "        text-align: right;\n",
       "    }\n",
       "</style>\n",
       "<table border=\"1\" class=\"dataframe\">\n",
       "  <thead>\n",
       "    <tr style=\"text-align: right;\">\n",
       "      <th></th>\n",
       "      <th>Nome</th>\n",
       "      <th>Idade</th>\n",
       "      <th>CPF</th>\n",
       "      <th>RG</th>\n",
       "    </tr>\n",
       "  </thead>\n",
       "  <tbody>\n",
       "    <tr>\n",
       "      <th>0</th>\n",
       "      <td>Marina</td>\n",
       "      <td>32</td>\n",
       "      <td>90909090.22</td>\n",
       "      <td>8923874</td>\n",
       "    </tr>\n",
       "  </tbody>\n",
       "</table>\n",
       "</div>"
      ],
      "text/plain": [
       "     Nome  Idade          CPF       RG\n",
       "0  Marina     32  90909090.22  8923874"
      ]
     },
     "execution_count": 29,
     "metadata": {},
     "output_type": "execute_result"
    }
   ],
   "source": [
    "Pessoa2 = DadosPessoais(\"Marina\", 32, 090909090.22, 8923874)\n",
    "Pessoa2.apresentar()\n",
    "Pessoa2.Dados_completos()"
   ]
  }
 ],
 "metadata": {
  "kernelspec": {
   "display_name": "Projeto-ext",
   "language": "python",
   "name": "python3"
  },
  "language_info": {
   "codemirror_mode": {
    "name": "ipython",
    "version": 3
   },
   "file_extension": ".py",
   "mimetype": "text/x-python",
   "name": "python",
   "nbconvert_exporter": "python",
   "pygments_lexer": "ipython3",
   "version": "3.12.4"
  }
 },
 "nbformat": 4,
 "nbformat_minor": 2
}
