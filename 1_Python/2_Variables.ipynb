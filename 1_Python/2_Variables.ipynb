{
 "cells": [
  {
   "cell_type": "markdown",
   "metadata": {},
   "source": [
    "# Variáveis"
   ]
  },
  {
   "cell_type": "code",
   "execution_count": 2,
   "metadata": {},
   "outputs": [],
   "source": [
    "nome = 'João'\n",
    "sobrenome = 'Tovany'\n",
    "idade = '22'\n",
    "altura = \"1.65\""
   ]
  },
  {
   "cell_type": "markdown",
   "metadata": {},
   "source": [
    " - Variáveis em Python são nomes que referenciam valores armazenados na memória do computador. Elas são usadas para armazenar, manipular e acessar dados durante a execução de um programa. Em Python, uma variável é criada assim que você atribui um valor a ela."
   ]
  },
  {
   "cell_type": "markdown",
   "metadata": {},
   "source": [
    "## Vários valores para as variáveis"
   ]
  },
  {
   "cell_type": "code",
   "execution_count": 4,
   "metadata": {},
   "outputs": [],
   "source": [
    "Maria, Pedro, Marcos = 10 , 20, 30\n",
    "Idades = [ 40, 60, 19 ]\n",
    "x = y = z = 30"
   ]
  },
  {
   "cell_type": "markdown",
   "metadata": {},
   "source": [
    "## Variáveis de saída"
   ]
  },
  {
   "cell_type": "code",
   "execution_count": 5,
   "metadata": {},
   "outputs": [
    {
     "name": "stdout",
     "output_type": "stream",
     "text": [
      "Meu nome é Maria e minha idade é:10\n",
      "Meu nome é Marcos e meus irmãos tem as idades:[40, 60, 19]\n"
     ]
    }
   ],
   "source": [
    "print(f'Meu nome é Maria e minha idade é:{Maria}')\n",
    "print(f'Meu nome é Marcos e meus irmãos tem as idades:{Idades}')"
   ]
  },
  {
   "cell_type": "markdown",
   "metadata": {},
   "source": [
    "## Exercicio"
   ]
  },
  {
   "cell_type": "markdown",
   "metadata": {},
   "source": [
    "1. Você deve criar variáveis que estão relacionados a você, como idade, nome, altura.\n",
    "2. Por fim, deve imprimir em tela o resultado, como foi feito no exemplo acima, utilizando o \"print(f'')\"\n",
    "\n",
    "\n",
    " *Qualquer coisar, só chamar que eu vou na sua cadeira. Não tenham medo de perguntar ou errar!*"
   ]
  }
 ],
 "metadata": {
  "kernelspec": {
   "display_name": "Python 3 (ipykernel)",
   "language": "python",
   "name": "python3"
  },
  "language_info": {
   "codemirror_mode": {
    "name": "ipython",
    "version": 3
   },
   "file_extension": ".py",
   "mimetype": "text/x-python",
   "name": "python",
   "nbconvert_exporter": "python",
   "pygments_lexer": "ipython3",
   "version": "3.12.5"
  }
 },
 "nbformat": 4,
 "nbformat_minor": 4
}
