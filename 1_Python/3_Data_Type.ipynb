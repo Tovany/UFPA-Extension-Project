{
 "cells": [
  {
   "cell_type": "markdown",
   "metadata": {},
   "source": [
    "# Tipos de dados "
   ]
  },
  {
   "cell_type": "markdown",
   "metadata": {},
   "source": [
    "<hr>"
   ]
  },
  {
   "cell_type": "markdown",
   "metadata": {},
   "source": [
    "## O que são tipos de dados?\n",
    "\n",
    "* Em Python, um tipo de dado define o tipo de valor que uma variável pode armazenar. Cada tipo de dado tem suas próprias características e operações que podem ser realizadas sobre ele."
   ]
  },
  {
   "cell_type": "markdown",
   "metadata": {},
   "source": [
    "## Os tipos de dados são:\n",
    "<hr>"
   ]
  },
  {
   "cell_type": "markdown",
   "metadata": {},
   "source": [
    "###  1. **Numéricos:**"
   ]
  },
  {
   "cell_type": "code",
   "execution_count": 1,
   "metadata": {},
   "outputs": [],
   "source": [
    "inteiro    = 10 # int\n",
    "flutuante  = 1.90 # float\n",
    "imaginario = 1 + 2j # complex"
   ]
  },
  {
   "cell_type": "markdown",
   "metadata": {},
   "source": [
    "<hr>\n",
    "<hr>"
   ]
  },
  {
   "cell_type": "markdown",
   "metadata": {},
   "source": [
    "### 2.  **Sequencias:** "
   ]
  },
  {
   "cell_type": "markdown",
   "metadata": {},
   "source": [
    "<p> <b>2.1 string</b> --> Cadeira de caracteres"
   ]
  },
  {
   "cell_type": "code",
   "execution_count": null,
   "metadata": {},
   "outputs": [],
   "source": [
    "string = \"Meu nome é Marcos\"\n",
    "print(f\"Tipo de dado: {type(string)}\") # nova função"
   ]
  },
  {
   "cell_type": "markdown",
   "metadata": {},
   "source": [
    "<hr>"
   ]
  },
  {
   "cell_type": "markdown",
   "metadata": {},
   "source": [
    "<p> <b>2.2 Lista</b> --> Coleção ordenada e multável de itens. Pode conter itens de diferentes tipos"
   ]
  },
  {
   "cell_type": "code",
   "execution_count": 7,
   "metadata": {},
   "outputs": [
    {
     "name": "stdout",
     "output_type": "stream",
     "text": [
      "Tipo de dado: <class 'list'>\n"
     ]
    }
   ],
   "source": [
    "lista = [\"joão\", \"Rafaela\", \"Igor\", 1, 23, 10, 0.1]\n",
    "print(f'Tipo de dado: {type(lista)}')"
   ]
  },
  {
   "cell_type": "markdown",
   "metadata": {},
   "source": [
    "<hr>"
   ]
  },
  {
   "cell_type": "markdown",
   "metadata": {},
   "source": [
    "<p> <b>2.3  tuple </b>--> Coleção ordenada e imutável de itens. Pode conter intes de diferentes tipos também "
   ]
  },
  {
   "cell_type": "code",
   "execution_count": 54,
   "metadata": {},
   "outputs": [
    {
     "name": "stdout",
     "output_type": "stream",
     "text": [
      "Tipo de dado: <class 'tuple'>\n"
     ]
    }
   ],
   "source": [
    "tuple = (.1, 1, 2, 4, 5, \"Paralelepipedo\")\n",
    "print(f'Tipo de dado: {type(tuple)}')"
   ]
  },
  {
   "cell_type": "markdown",
   "metadata": {},
   "source": [
    "<hr>"
   ]
  },
  {
   "cell_type": "markdown",
   "metadata": {},
   "source": [
    "<p> <b> 2.4 range</b> --> Sequencia numérica"
   ]
  },
  {
   "cell_type": "code",
   "execution_count": 11,
   "metadata": {},
   "outputs": [
    {
     "name": "stdout",
     "output_type": "stream",
     "text": [
      "Tipo de dado: <class 'range'>\n"
     ]
    }
   ],
   "source": [
    "sequencia = range(10)\n",
    "print(f'Tipo de dado: {type(sequencia)}')"
   ]
  },
  {
   "cell_type": "markdown",
   "metadata": {},
   "source": [
    "<hr>\n",
    "<hr>"
   ]
  },
  {
   "cell_type": "markdown",
   "metadata": {},
   "source": [
    " ### 3.   **Mapeamento**"
   ]
  },
  {
   "cell_type": "markdown",
   "metadata": {},
   "source": [
    "<p> <b> 3.1 Dicionário </b>--> Um dicionário em Python é uma estrutura de dados que armazena pares de chave-valor."
   ]
  },
  {
   "cell_type": "code",
   "execution_count": 46,
   "metadata": {},
   "outputs": [
    {
     "name": "stdout",
     "output_type": "stream",
     "text": [
      "Tipo de dado <class 'dict'>\n"
     ]
    }
   ],
   "source": [
    "nomes      = [\"Fulano\", \"Ciclano\"]\n",
    "idades     = [10, 20]\n",
    "\n",
    "dicionario = {\"Nomes\": nomes, \"Idades\": idades}\n",
    "\n",
    "print(f'Tipo de dado { type(dicionario)}')    "
   ]
  },
  {
   "cell_type": "markdown",
   "metadata": {},
   "source": [
    "**<p> Observação:**"
   ]
  },
  {
   "cell_type": "code",
   "execution_count": 47,
   "metadata": {},
   "outputs": [
    {
     "data": {
      "text/html": [
       "<div>\n",
       "<style scoped>\n",
       "    .dataframe tbody tr th:only-of-type {\n",
       "        vertical-align: middle;\n",
       "    }\n",
       "\n",
       "    .dataframe tbody tr th {\n",
       "        vertical-align: top;\n",
       "    }\n",
       "\n",
       "    .dataframe thead th {\n",
       "        text-align: right;\n",
       "    }\n",
       "</style>\n",
       "<table border=\"1\" class=\"dataframe\">\n",
       "  <thead>\n",
       "    <tr style=\"text-align: right;\">\n",
       "      <th></th>\n",
       "      <th>Nomes</th>\n",
       "      <th>Idades</th>\n",
       "    </tr>\n",
       "  </thead>\n",
       "  <tbody>\n",
       "    <tr>\n",
       "      <th>0</th>\n",
       "      <td>Fulano</td>\n",
       "      <td>10</td>\n",
       "    </tr>\n",
       "    <tr>\n",
       "      <th>1</th>\n",
       "      <td>Ciclano</td>\n",
       "      <td>20</td>\n",
       "    </tr>\n",
       "  </tbody>\n",
       "</table>\n",
       "</div>"
      ],
      "text/plain": [
       "     Nomes  Idades\n",
       "0   Fulano      10\n",
       "1  Ciclano      20"
      ]
     },
     "execution_count": 47,
     "metadata": {},
     "output_type": "execute_result"
    }
   ],
   "source": [
    "import pandas as pd\n",
    "\n",
    "pd.DataFrame(dicionario)"
   ]
  },
  {
   "cell_type": "markdown",
   "metadata": {},
   "source": [
    "<p> <b> 3.2 Booleano </b>--> Representa os valores de verdadeiro ou falso"
   ]
  },
  {
   "cell_type": "code",
   "execution_count": 53,
   "metadata": {},
   "outputs": [
    {
     "name": "stdout",
     "output_type": "stream",
     "text": [
      "O valor Verdadeiro corresponde a 1\n",
      "\n",
      "O valor falso corresponde a 0\n"
     ]
    }
   ],
   "source": [
    "Verdadeiro = True\n",
    "Falso      = False\n",
    "\n",
    "# Observação:\n",
    "## Os valores de verdadeiro e falso são representados por numeros tambem:\n",
    "\n",
    "print(f'O valor Verdadeiro corresponde a {int(Verdadeiro)}')\n",
    "print('')\n",
    "print(f'O valor falso corresponde a {int(Falso)}')"
   ]
  },
  {
   "cell_type": "markdown",
   "metadata": {},
   "source": [
    "<hr>\n",
    "<hr>"
   ]
  },
  {
   "cell_type": "markdown",
   "metadata": {},
   "source": [
    "<h1> <b>Exercicio</b>\n",
    "\n",
    "<h3> <i>Métodos construtores</i>\n",
    "<p> Métodos construtores são funções especiais que são utilizadas para criar instâncias de classes ou <u>converter valores entre tipos diferentes</u>. Em Python, esses métodos são chamados para inicializar um objeto de uma determinada classe.</p>\n",
    "<br>\n",
    "<p>Os métodos construtores são:</p>\n",
    "<ul>\n",
    "    <li>int()</li>\n",
    "    <li>float()</li>\n",
    "    <li>str()</li>\n",
    "    <li>bool()</li>\n",
    "</ul>\n",
    "<p> Mas, como utilizar esses métodos? Esse é sua  tarefa. Descubra como usar os métodos construtores para conversão dos valores, como de <i>float</i> para <i>int</i> ou até mesmo de numéricos para <i>strings</i>\n",
    "<br>\n",
    "\n",
    "<p> Você pode usar a internet, chat GPT, GEMINI, colar do colegar, não tem probrema, o importante é tentar fazer. <strong>Não cole nas provas kkk</strong></p>\n",
    "<br>\n",
    "<p> Se quiserem, façam grupos.</p>\n",
    "\n",
    "<blockquote>\n",
    "    Já foi usado nos exemplos acima métodos construtores, então, se você achar, você já tem uma pista de como usar.\n",
    "</blockquote>"
   ]
  },
  {
   "cell_type": "markdown",
   "metadata": {},
   "source": []
  }
 ],
 "metadata": {
  "kernelspec": {
   "display_name": "base",
   "language": "python",
   "name": "python3"
  },
  "language_info": {
   "codemirror_mode": {
    "name": "ipython",
    "version": 3
   },
   "file_extension": ".py",
   "mimetype": "text/x-python",
   "name": "python",
   "nbconvert_exporter": "python",
   "pygments_lexer": "ipython3",
   "version": "3.12.4"
  }
 },
 "nbformat": 4,
 "nbformat_minor": 2
}
